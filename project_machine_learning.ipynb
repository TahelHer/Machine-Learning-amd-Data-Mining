{
 "cells": [
  {
   "cell_type": "markdown",
   "id": "7450edab-8cc9-4507-9647-40af61b7045e",
   "metadata": {},
   "source": [
    "# מטלה 2 - למידת מכונה"
   ]
  },
  {
   "cell_type": "code",
   "execution_count": 1,
   "id": "286200ae-e44a-442f-8a25-b9ba279da33e",
   "metadata": {},
   "outputs": [],
   "source": [
    "import pandas as pd\n",
    "import warnings\n",
    "import numpy as np\n",
    "import seaborn as sns\n",
    "import matplotlib.pyplot as plt\n",
    "from sklearn.preprocessing import OneHotEncoder\n",
    "from sklearn.preprocessing import StandardScaler\n",
    "from sklearn.model_selection import train_test_split\n",
    "from sklearn.linear_model import LinearRegression\n",
    "from sklearn.metrics import mean_squared_error\n",
    "from sklearn.preprocessing import StandardScaler, PolynomialFeatures\n",
    "from sklearn.linear_model import LogisticRegression\n",
    "from sklearn.model_selection import train_test_split, GridSearchCV\n",
    "from sklearn.compose import ColumnTransformer\n",
    "from sklearn.pipeline import Pipeline\n",
    "from sklearn.linear_model import ElasticNet\n",
    "from sklearn.model_selection import train_test_split, GridSearchCV, cross_val_score\n",
    "from sklearn.metrics import mean_squared_error, make_scorer"
   ]
  },
  {
   "cell_type": "code",
   "execution_count": 2,
   "id": "7d7e378c-c78e-4d8e-b36a-6ea0294de211",
   "metadata": {},
   "outputs": [],
   "source": [
    "df = pd.read_csv('C:/Users/Tahel Hermon/Downloads/dataset.csv')"
   ]
  },
  {
   "cell_type": "code",
   "execution_count": 3,
   "id": "3d7ade2c-b1aa-4233-a5f1-cf436da5cfab",
   "metadata": {},
   "outputs": [
    {
     "name": "stdout",
     "output_type": "stream",
     "text": [
      "<class 'pandas.core.frame.DataFrame'>\n",
      "RangeIndex: 1500 entries, 0 to 1499\n",
      "Data columns (total 20 columns):\n",
      " #   Column           Non-Null Count  Dtype  \n",
      "---  ------           --------------  -----  \n",
      " 0   manufactor       1500 non-null   object \n",
      " 1   Year             1500 non-null   int64  \n",
      " 2   model            1500 non-null   object \n",
      " 3   Hand             1500 non-null   int64  \n",
      " 4   Gear             1499 non-null   object \n",
      " 5   capacity_Engine  1474 non-null   object \n",
      " 6   Engine_type      1495 non-null   object \n",
      " 7   Prev_ownership   771 non-null    object \n",
      " 8   Curr_ownership   772 non-null    object \n",
      " 9   Area             1351 non-null   object \n",
      " 10  City             1500 non-null   object \n",
      " 11  Price            1500 non-null   float64\n",
      " 12  Pic_num          1476 non-null   float64\n",
      " 13  Cre_date         1500 non-null   object \n",
      " 14  Repub_date       1500 non-null   object \n",
      " 15  Description      1500 non-null   object \n",
      " 16  Color            730 non-null    object \n",
      " 17  Km               1411 non-null   object \n",
      " 18  Test             132 non-null    object \n",
      " 19  Supply_score     439 non-null    float64\n",
      "dtypes: float64(3), int64(2), object(15)\n",
      "memory usage: 234.5+ KB\n"
     ]
    }
   ],
   "source": [
    "df.info()"
   ]
  },
  {
   "cell_type": "markdown",
   "id": "2374e1f8-a66d-45a5-9911-977f69159967",
   "metadata": {},
   "source": [
    "#### טיפול בערכים חסרים"
   ]
  },
  {
   "cell_type": "code",
   "execution_count": 4,
   "id": "d6521371-67f0-45e9-ac4f-e67e2b3d3b5d",
   "metadata": {},
   "outputs": [
    {
     "data": {
      "text/plain": [
       "1372"
      ]
     },
     "execution_count": 4,
     "metadata": {},
     "output_type": "execute_result"
    }
   ],
   "source": [
    "df2 = df.copy()\n",
    "df3 = df2.drop_duplicates()\n",
    "len(df3)"
   ]
  },
  {
   "cell_type": "markdown",
   "id": "52ac29d5-5e13-4835-907d-e09d36d474db",
   "metadata": {},
   "source": [
    "##### המרת עמודת ק\"מ"
   ]
  },
  {
   "cell_type": "code",
   "execution_count": 5,
   "id": "eb4f02b4-31a1-457c-800b-145859e54083",
   "metadata": {},
   "outputs": [],
   "source": [
    "def km(df):\n",
    "    df['Km'] = pd.to_numeric(df['Km'], errors='coerce')\n",
    "    df['Km'] = df['Km'].astype('float64')\n",
    "    df['Km'] = df['Km'].fillna(df['Km'].mean())"
   ]
  },
  {
   "cell_type": "markdown",
   "id": "f628c531-2cec-47ff-8fa1-7438aa940035",
   "metadata": {},
   "source": [
    "##### מילוי ערכים חסרים"
   ]
  },
  {
   "cell_type": "code",
   "execution_count": 6,
   "id": "f905124a-867e-4a24-baad-d202f5b534d5",
   "metadata": {},
   "outputs": [],
   "source": [
    "import warnings\n",
    "warnings.filterwarnings(\"ignore\")\n",
    "def filling(df):\n",
    "    km(df)\n",
    "    df['capacity_Engine'] = df['capacity_Engine'].fillna(df['capacity_Engine'].mode()[0])\n",
    "    df['capacity_Engine'] = df['capacity_Engine'].str.strip().str.replace(',', '')\n",
    "    df['Engine_type'] = df['Engine_type'].fillna(df['Engine_type'].mode()[0])\n",
    "    df['Year'] = df['Year'].fillna(df['Year'].mode()[0])\n",
    "    df['Hand'] = df['Hand'].fillna(df['Hand'].mode()[0])\n",
    "    df['Gear'] = df['Gear'].fillna(df['Gear'].mode()[0])\n",
    "    df['Pic_num'] = df['Pic_num'].fillna('0')\n",
    "    df['Area'] = df['Area'].fillna('אין אזור מוגדר')"
   ]
  },
  {
   "cell_type": "markdown",
   "id": "dfd60ef5-e48d-48ae-8dfb-61b9d55f4253",
   "metadata": {},
   "source": [
    "##### הורדת עמודות עם פחות מ50% נתונים לפי כלל אצבע"
   ]
  },
  {
   "cell_type": "code",
   "execution_count": 7,
   "id": "a5d9b3c4-c0b2-437b-a081-08a13616b910",
   "metadata": {},
   "outputs": [],
   "source": [
    "def low_data(df):\n",
    "    threshold=0.5\n",
    "    threshold_count = int(threshold * len(df))\n",
    "    df.dropna(axis = 1,thresh=threshold_count, inplace=True)"
   ]
  },
  {
   "cell_type": "code",
   "execution_count": 8,
   "id": "cfdce2a2-6346-452b-a796-a8861897536c",
   "metadata": {},
   "outputs": [],
   "source": [
    "km(df3)\n",
    "low_data(df3)"
   ]
  },
  {
   "cell_type": "markdown",
   "id": "809a100c-8aab-4eec-b1e0-9e7dd28459fe",
   "metadata": {},
   "source": [
    "#### טיפול בחריגים"
   ]
  },
  {
   "cell_type": "code",
   "execution_count": 9,
   "id": "7a5d996a-4636-4f9f-b2d8-49261b1699c6",
   "metadata": {},
   "outputs": [],
   "source": [
    "import numpy as np\n",
    "def Clearing_Outliers_By_IQR(df, colName, lp, up):\n",
    "    Q1 = np.percentile(df[colName], lp)\n",
    "    Q3 = np.percentile(df[colName], up)\n",
    "    IQR = Q3 - Q1\n",
    "    lower_bound = Q1 - 1.5 * IQR\n",
    "    upper_bound = Q3 + 1.5 * IQR\n",
    "    outliers = df[(df[colName] < lower_bound) | (df[colName] > upper_bound)][colName]\n",
    "    print(f\"{outliers.min()} , {outliers.max()}\")\n",
    "    df[colName][(df[colName] < lower_bound) | (df[colName] > upper_bound)] = np.nan\n",
    "    print(f'now have {df[colName].isna().sum()} nans')"
   ]
  },
  {
   "cell_type": "code",
   "execution_count": 10,
   "id": "79489f96-75b9-4550-bacb-544787dd8ef2",
   "metadata": {},
   "outputs": [
    {
     "name": "stdout",
     "output_type": "stream",
     "text": [
      "1983 , 2000\n",
      "now have 11 nans\n",
      "400000.0 , 1550000.0\n",
      "now have 8 nans\n",
      "7 , 10\n",
      "now have 16 nans\n"
     ]
    }
   ],
   "source": [
    "Clearing_Outliers_By_IQR(df3, 'Year', 30, 99)\n",
    "Clearing_Outliers_By_IQR(df3, 'Km', 0, 75)\n",
    "Clearing_Outliers_By_IQR(df3, 'Hand', 0, 64)"
   ]
  },
  {
   "cell_type": "code",
   "execution_count": 11,
   "id": "aa5d0ba9-e5e1-4fd8-b3a5-b3bc8bf0db9f",
   "metadata": {},
   "outputs": [
    {
     "name": "stdout",
     "output_type": "stream",
     "text": [
      "<class 'pandas.core.frame.DataFrame'>\n",
      "Index: 1372 entries, 0 to 1499\n",
      "Data columns (total 15 columns):\n",
      " #   Column           Non-Null Count  Dtype  \n",
      "---  ------           --------------  -----  \n",
      " 0   manufactor       1372 non-null   object \n",
      " 1   Year             1372 non-null   float64\n",
      " 2   model            1372 non-null   object \n",
      " 3   Hand             1372 non-null   float64\n",
      " 4   Gear             1372 non-null   object \n",
      " 5   capacity_Engine  1372 non-null   object \n",
      " 6   Engine_type      1372 non-null   object \n",
      " 7   Area             1372 non-null   object \n",
      " 8   City             1372 non-null   object \n",
      " 9   Price            1372 non-null   float64\n",
      " 10  Pic_num          1372 non-null   object \n",
      " 11  Cre_date         1372 non-null   object \n",
      " 12  Repub_date       1372 non-null   object \n",
      " 13  Description      1372 non-null   object \n",
      " 14  Km               1372 non-null   float64\n",
      "dtypes: float64(4), object(11)\n",
      "memory usage: 171.5+ KB\n"
     ]
    }
   ],
   "source": [
    "filling(df3)\n",
    "df3.info()"
   ]
  },
  {
   "cell_type": "markdown",
   "id": "36fc700d-7d74-4daa-80b7-810ce8113834",
   "metadata": {},
   "source": [
    "### Feature Engineering"
   ]
  },
  {
   "cell_type": "markdown",
   "id": "61045275-f54d-4ba1-9fe4-da58fb83cf7e",
   "metadata": {},
   "source": [
    "#### Km"
   ]
  },
  {
   "cell_type": "code",
   "execution_count": 35,
   "id": "3079e505-a8c6-4ac0-9975-950d596db8d1",
   "metadata": {},
   "outputs": [],
   "source": [
    "def feature_bins(df):\n",
    "    bins = pd.cut(df['Km'], bins=10, labels=False)\n",
    "    df['Km_binned'] = bins"
   ]
  },
  {
   "cell_type": "code",
   "execution_count": 36,
   "id": "e3ea2e21-bb79-445f-9d22-910d990da503",
   "metadata": {},
   "outputs": [],
   "source": [
    "def map_area_to_region(area):\n",
    "    area_bins = {\n",
    "        'אזור המרכז': ['תל אביב', 'ראשון לציון', 'רמת גן', 'גבעתיים', 'חולון', 'בת ים', 'פתח תקוה והסביבה', 'בקעת אונו', 'מודיעין והסביבה', 'ראש העין והסביבה'],\n",
    "        'שרון': ['רעננה - כפר סבא', 'מושבים בשרון', 'רמת השרון - הרצליה', 'הוד השרון והסביבה', 'נתניה והסביבה', 'קיסריה והסביבה', 'חדרה וישובי עמק חפר'],\n",
    "        'דרום': ['אשדוד - אשקלון', 'באר שבע והסביבה', 'אילת והערבה', 'מושבים בדרום', 'מושבים בשפלה'],\n",
    "        'צפון': ['חיפה וחוף הכרמל', 'קריות', 'עכו - נהריה', 'טבריה והסביבה', 'גליל ועמקים', 'עמק יזרעאל', 'כרמיאל והסביבה', 'זכרון - בנימינה', 'יישובי השומרון'],\n",
    "        'בקעה ושפלה': ['נס ציונה - רחובות', 'ראשל\"צ והסביבה', 'גדרה יבנה והסביבה', 'רמלה - לוד', 'בית שמש והסביבה', 'מושבים במרכז']\n",
    "    }\n",
    "    \n",
    "    for region, areas in area_bins.items():\n",
    "        if any(area.startswith(a) for a in areas):\n",
    "            return region\n",
    "    return 'אזור לא מוגדר'"
   ]
  },
  {
   "cell_type": "code",
   "execution_count": 37,
   "id": "e0bbf33f-78ca-4e79-951e-1d7d16c632c7",
   "metadata": {},
   "outputs": [],
   "source": [
    "def feature_area(df):\n",
    "    df['Region'] = df['Area'].apply(map_area_to_region)"
   ]
  },
  {
   "cell_type": "code",
   "execution_count": 38,
   "id": "d0d83e50-941f-49ad-9b24-4f9f659ff7f4",
   "metadata": {},
   "outputs": [],
   "source": [
    "def feature_gear(df):\n",
    "    df_gear =  df.copy()\n",
    "    df_gear = df_gear.loc[:,['Gear']]\n",
    "    gear_encoder = OneHotEncoder(min_frequency=int(0.45 * len(df)), sparse_output=False)\n",
    "    gear_encoded = gear_encoder.fit_transform(df_gear)\n",
    "    gear_feature_names = gear_encoder.get_feature_names_out(df_gear.columns)\n",
    "    gear_encoded = pd.DataFrame(gear_encoded, columns=gear_feature_names, index=df_gear.index)\n",
    "    return gear_encoded"
   ]
  },
  {
   "cell_type": "code",
   "execution_count": 39,
   "id": "73ac7ac3-9efc-4477-b97f-2658a12a555d",
   "metadata": {},
   "outputs": [],
   "source": [
    "def feature_engine(df):\n",
    "    df_engine_type = df.copy()\n",
    "    df_engine_type = df_engine_type.loc[:,['Engine_type']]\n",
    "        \n",
    "    df_engine_type_encoder = OneHotEncoder(min_frequency=int(0.45 * len(df)), sparse_output=False)\n",
    "    engine_type_encoded = df_engine_type_encoder.fit_transform(df_engine_type)\n",
    "    engine_type_feature_names = df_engine_type_encoder.get_feature_names_out(df_engine_type.columns)\n",
    "    engine_type_encoded = pd.DataFrame(engine_type_encoded, columns=engine_type_feature_names, index=df_engine_type.index)\n",
    "    \n",
    "    return engine_type_encoded"
   ]
  },
  {
   "cell_type": "code",
   "execution_count": 40,
   "id": "71f7c50d-5efe-4114-be5d-ea25fdf5da04",
   "metadata": {},
   "outputs": [],
   "source": [
    "def feature_manufactor(df):\n",
    "    df_manufactor = df.copy()\n",
    "    df_manufactor = df_manufactor.loc[:,['manufactor']]\n",
    "\n",
    "    unique_count = df['manufactor'].nunique()\n",
    "    df_manufactor_encoder = OneHotEncoder(min_frequency=int(len(df)/unique_count), sparse_output=False)\n",
    "    manufactor_encoded = df_manufactor_encoder.fit_transform(df_manufactor)\n",
    "    manufactor_feature_names = df_manufactor_encoder.get_feature_names_out(df_manufactor.columns)\n",
    "    manufactor_encoded = pd.DataFrame(manufactor_encoded, columns=manufactor_feature_names, index=df_manufactor.index)\n",
    "\n",
    "    return manufactor_encoded"
   ]
  },
  {
   "cell_type": "code",
   "execution_count": 41,
   "id": "55e35cce-98ee-4136-bb48-17a6da9821c7",
   "metadata": {},
   "outputs": [],
   "source": [
    "def feature_region(df):\n",
    "    df_region = df.copy()\n",
    "    df_region = df_region.loc[:,['Region']]\n",
    "\n",
    "    unique_count = df['Region'].nunique()    \n",
    "    df_region_encoder = OneHotEncoder(min_frequency=int(len(df)/unique_count), sparse_output=False)\n",
    "    region_encoded = df_region_encoder.fit_transform(df_region)\n",
    "    region_feature_names = df_region_encoder.get_feature_names_out(df_region.columns)\n",
    "    region_encoded = pd.DataFrame(region_encoded, columns=region_feature_names, index=df_region.index)\n",
    "    return region_encoded"
   ]
  },
  {
   "cell_type": "code",
   "execution_count": 42,
   "id": "f71ba71b-0dcd-4408-a66b-e0051b910b19",
   "metadata": {},
   "outputs": [],
   "source": [
    "def feature_km(df):\n",
    "    df_Km_binned = df.copy()\n",
    "    df_Km_binned = df_Km_binned.loc[:,['Km_binned']]\n",
    "    df_Km_binned_encoder = OneHotEncoder(min_frequency=int(len(df)/10), sparse_output=False)\n",
    "    Km_binned_encoded = df_Km_binned_encoder.fit_transform(df_Km_binned)\n",
    "    Km_binned_feature_names = df_Km_binned_encoder.get_feature_names_out(df_Km_binned.columns)\n",
    "    Km_binned_encoded = pd.DataFrame(Km_binned_encoded, columns=Km_binned_feature_names, index=df_Km_binned.index)\n",
    "    return Km_binned_encoded"
   ]
  },
  {
   "cell_type": "code",
   "execution_count": 43,
   "id": "2bd52a43-192a-49b9-9dfb-3692fe034da1",
   "metadata": {},
   "outputs": [],
   "source": [
    "def feature_rank(df):\n",
    "    df_rank = df.copy()\n",
    "    numeric_features = ['Year', 'Hand', 'capacity_Engine', 'Km']\n",
    "    \n",
    "    scaler = StandardScaler()\n",
    "    df_rank[numeric_features] = scaler.fit_transform(df_rank[numeric_features])\n",
    "    df_rank['Rank'] = df_rank[numeric_features].sum(axis=1)\n",
    "    df_rank['Rank'] = 1 + 99 * (df_rank['Rank'] - df_rank['Rank'].min()) / (df_rank['Rank'].max() - df_rank['Rank'].min())\n",
    "    df_rank['Rank'] = df_rank['Rank'].round(2)\n",
    "    return df_rank"
   ]
  },
  {
   "cell_type": "code",
   "execution_count": 51,
   "id": "83a4f3cd-1b40-4689-8716-e00188aefc2a",
   "metadata": {},
   "outputs": [],
   "source": [
    "def prepare_data(df):\n",
    "    feature_area(df)\n",
    "    feature_bins(df)\n",
    "    gear_encoded = feature_gear(df)\n",
    "    engine_type_encoded = feature_engine(df)\n",
    "    manufactor_encoded = feature_manufactor(df)\n",
    "    region_encoded = feature_region(df)\n",
    "    km_encoded = feature_km(df)\n",
    "    df_rank = feature_rank(df)\n",
    "    \n",
    "    df = pd.concat([df, gear_encoded, engine_type_encoded, manufactor_encoded,\n",
    "                    region_encoded, km_encoded, df_rank['Rank']], axis=1)\n",
    "    \n",
    "    df['Km_per_Year'] = df['Km'] / df['Year']\n",
    "    \n",
    "    return df"
   ]
  },
  {
   "cell_type": "code",
   "execution_count": 55,
   "id": "af58b433-697b-4f5e-b05c-593b40a789c1",
   "metadata": {},
   "outputs": [],
   "source": [
    "df3 = prepare_data(df3)"
   ]
  },
  {
   "cell_type": "code",
   "execution_count": 56,
   "id": "8a428820-0036-4ad6-97a9-d13dce31bb25",
   "metadata": {},
   "outputs": [
    {
     "name": "stdout",
     "output_type": "stream",
     "text": [
      "<class 'pandas.core.frame.DataFrame'>\n",
      "Index: 1372 entries, 0 to 1499\n",
      "Data columns (total 44 columns):\n",
      " #   Column                          Non-Null Count  Dtype  \n",
      "---  ------                          --------------  -----  \n",
      " 0   manufactor                      1372 non-null   object \n",
      " 1   Year                            1372 non-null   float64\n",
      " 2   model                           1372 non-null   object \n",
      " 3   Hand                            1372 non-null   float64\n",
      " 4   Gear                            1372 non-null   object \n",
      " 5   capacity_Engine                 1372 non-null   object \n",
      " 6   Engine_type                     1372 non-null   object \n",
      " 7   Area                            1372 non-null   object \n",
      " 8   City                            1372 non-null   object \n",
      " 9   Price                           1372 non-null   float64\n",
      " 10  Pic_num                         1372 non-null   object \n",
      " 11  Cre_date                        1372 non-null   object \n",
      " 12  Repub_date                      1372 non-null   object \n",
      " 13  Description                     1372 non-null   object \n",
      " 14  Km                              1372 non-null   float64\n",
      " 15  Region                          1372 non-null   object \n",
      " 16  Km_binned                       1372 non-null   int64  \n",
      " 17  Gear_אוטומטית                   1372 non-null   float64\n",
      " 18  Gear_infrequent_sklearn         1372 non-null   float64\n",
      " 19  Engine_type_בנזין               1372 non-null   float64\n",
      " 20  Engine_type_infrequent_sklearn  1372 non-null   float64\n",
      " 21  manufactor_אאודי                1372 non-null   float64\n",
      " 22  manufactor_הונדה                1372 non-null   float64\n",
      " 23  manufactor_טויוטה               1372 non-null   float64\n",
      " 24  manufactor_יונדאי               1372 non-null   float64\n",
      " 25  manufactor_מאזדה                1372 non-null   float64\n",
      " 26  manufactor_סוזוקי               1372 non-null   float64\n",
      " 27  manufactor_סקודה                1372 non-null   float64\n",
      " 28  manufactor_פולקסווגן            1372 non-null   float64\n",
      " 29  manufactor_קיה                  1372 non-null   float64\n",
      " 30  manufactor_שברולט               1372 non-null   float64\n",
      " 31  manufactor_infrequent_sklearn   1372 non-null   float64\n",
      " 32  Region_אזור המרכז               1372 non-null   float64\n",
      " 33  Region_אזור לא מוגדר            1372 non-null   float64\n",
      " 34  Region_צפון                     1372 non-null   float64\n",
      " 35  Region_infrequent_sklearn       1372 non-null   float64\n",
      " 36  Km_binned_0                     1372 non-null   float64\n",
      " 37  Km_binned_1                     1372 non-null   float64\n",
      " 38  Km_binned_2                     1372 non-null   float64\n",
      " 39  Km_binned_3                     1372 non-null   float64\n",
      " 40  Km_binned_4                     1372 non-null   float64\n",
      " 41  Km_binned_infrequent_sklearn    1372 non-null   float64\n",
      " 42  Rank                            1372 non-null   float64\n",
      " 43  Km_per_Year                     1372 non-null   float64\n",
      "dtypes: float64(31), int64(1), object(12)\n",
      "memory usage: 482.3+ KB\n"
     ]
    }
   ],
   "source": [
    "df3.info()"
   ]
  },
  {
   "cell_type": "markdown",
   "id": "f5c300ed-b5e3-4808-9bb5-5512000f33ac",
   "metadata": {},
   "source": [
    "### Elastic Net"
   ]
  },
  {
   "cell_type": "code",
   "execution_count": 80,
   "id": "1c2e65ac-3be7-40ed-8282-777bdf399fb5",
   "metadata": {},
   "outputs": [],
   "source": [
    "def rmse(y_true, y_pred):\n",
    "    return np.sqrt(mean_squared_error(y_true, y_pred))\n",
    "\n",
    "def model(df):\n",
    "    X_dropped = df[['Price','manufactor', 'Gear', 'model', 'Engine_type','Area', 'City', 'Price', 'Pic_num', 'Cre_date', \n",
    "        'Repub_date', 'Description', 'Region']]\n",
    "    X = df.drop(columns = ['Price','manufactor', 'Gear', 'model', 'Engine_type','Area', 'City', 'Price', 'Pic_num', 'Cre_date', \n",
    "        'Repub_date', 'Description', 'Region'])\n",
    "    y = df['Price']\n",
    "\n",
    "    scaler = StandardScaler()\n",
    "    X_scaled = scaler.fit_transform(X)\n",
    "\n",
    "    X_scaled_df = pd.DataFrame(X_scaled,columns=X.columns)\n",
    "    X_final = pd.concat([X_scaled_df, X_dropped.reset_index(drop=True)], axis=1)\n",
    "    X_train, X_test, y_train, y_test = train_test_split(X_scaled_df, y, test_size=0.2, random_state=42)\n",
    "    \n",
    "    param_grid = {\n",
    "        'alpha': [0.0,0.1,0.2,0.3,0.4,0.5,0.6,0.7,0.8,0.9,1.0],\n",
    "        'l1_ratio': [0.0,0.1,0.2,0.3,0.4,0.5,0.6,0.7,0.8,0.9,1.0]\n",
    "    }\n",
    "    \n",
    "    elastic_net = ElasticNet(random_state=42)\n",
    "    rmse_scorer = make_scorer(rmse, greater_is_better=False)\n",
    "    scores = cross_val_score(elastic_net, X_scaled_df, y, cv=10, scoring=rmse_scorer)    \n",
    "    initial_best_score = np.max(scores)  # Use min because lower RMSE is better\n",
    "\n",
    "    \n",
    "    grid_search = GridSearchCV(estimator=ElasticNet(random_state=42), param_grid=param_grid, scoring=rmse_scorer, cv=10)\n",
    "    grid_search.fit(X_scaled_df, y)\n",
    "    grid_best_score = np.max(grid_search.cv_results_['mean_test_score'])\n",
    "    \n",
    "    \n",
    "    best_model = ElasticNet(**grid_search.best_params_, random_state=42)\n",
    "    best_model.fit(X_scaled_df, y) \n",
    "    best_scores = cross_val_score(best_model, X_scaled_df, y, cv=10, scoring=rmse_scorer)\n",
    "    print(\"Best model CV scores (RMSE):\", abs(np.max(best_scores)))\n",
    "    print(\"Best parameters:\", grid_search.best_params_)\n",
    "    \n",
    "    \n",
    "    coef_abs = abs(best_model.coef_) \n",
    "    feature_names = X_scaled_df.columns\n",
    "    feature_importance_df = pd.DataFrame({\n",
    "        'Feature': feature_names,\n",
    "        'Coefficient': best_model.coef_,\n",
    "        'num_Coefficient': coef_abs\n",
    "    })\n",
    "    \n",
    "    \n",
    "    sorted_features = feature_importance_df.sort_values(by='num_Coefficient', ascending=False)\n",
    "    top_features = sorted_features.drop(columns = ['num_Coefficient']).head(5).reset_index(drop=True)\n",
    "    print(\"Top 5 Most Impactful Features:\")\n",
    "    print(top_features)"
   ]
  },
  {
   "cell_type": "code",
   "execution_count": 81,
   "id": "b0429b02-4342-4468-8b81-41e00eb0cbab",
   "metadata": {},
   "outputs": [
    {
     "name": "stdout",
     "output_type": "stream",
     "text": [
      "Best model CV scores (RMSE): 14318.3603489251\n",
      "Best parameters: {'alpha': 0.1, 'l1_ratio': 0.8}\n",
      "Top 5 Most Impactful Features:\n",
      "                        Feature  Coefficient\n",
      "0                          Year  9238.712426\n",
      "1                          Rank  4022.590358\n",
      "2                          Hand -3277.696417\n",
      "3  Km_binned_infrequent_sklearn -2917.959994\n",
      "4             manufactor_טויוטה  2670.515371\n"
     ]
    }
   ],
   "source": [
    "model(df3)"
   ]
  },
  {
   "cell_type": "code",
   "execution_count": 82,
   "id": "936a5e38-1109-4ae0-949d-7e8271301dae",
   "metadata": {},
   "outputs": [
    {
     "data": {
      "text/plain": [
       "0       3\n",
       "1       1\n",
       "2       3\n",
       "3       0\n",
       "4       1\n",
       "       ..\n",
       "1495    0\n",
       "1496    4\n",
       "1497    3\n",
       "1498    3\n",
       "1499    4\n",
       "Name: Km_binned, Length: 1372, dtype: int64"
      ]
     },
     "execution_count": 82,
     "metadata": {},
     "output_type": "execute_result"
    }
   ],
   "source": [
    "df3['Km_binned']"
   ]
  }
 ],
 "metadata": {
  "kernelspec": {
   "display_name": "Python 3 (ipykernel)",
   "language": "python",
   "name": "python3"
  },
  "language_info": {
   "codemirror_mode": {
    "name": "ipython",
    "version": 3
   },
   "file_extension": ".py",
   "mimetype": "text/x-python",
   "name": "python",
   "nbconvert_exporter": "python",
   "pygments_lexer": "ipython3",
   "version": "3.12.4"
  }
 },
 "nbformat": 4,
 "nbformat_minor": 5
}
